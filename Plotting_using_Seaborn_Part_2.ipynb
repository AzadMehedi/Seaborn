{
  "nbformat": 4,
  "nbformat_minor": 0,
  "metadata": {
    "colab": {
      "provenance": [],
      "authorship_tag": "ABX9TyODw3r4w0UMYi0ajmzPsMrk",
      "include_colab_link": true
    },
    "kernelspec": {
      "name": "python3",
      "display_name": "Python 3"
    },
    "language_info": {
      "name": "python"
    }
  },
  "cells": [
    {
      "cell_type": "markdown",
      "metadata": {
        "id": "view-in-github",
        "colab_type": "text"
      },
      "source": [
        "<a href=\"https://colab.research.google.com/github/AzadMehedi/Seaborn/blob/main/Plotting_using_Seaborn_Part_2.ipynb\" target=\"_parent\"><img src=\"https://colab.research.google.com/assets/colab-badge.svg\" alt=\"Open In Colab\"/></a>"
      ]
    },
    {
      "cell_type": "code",
      "execution_count": 2,
      "metadata": {
        "id": "mE1rJx2woTkK"
      },
      "outputs": [],
      "source": [
        "import seaborn as sns"
      ]
    },
    {
      "cell_type": "code",
      "source": [
        "# import datasets\n",
        "tips = sns.load_dataset('tips')\n",
        "iris = sns.load_dataset('iris')"
      ],
      "metadata": {
        "id": "pCzA-UdLoYC6"
      },
      "execution_count": 3,
      "outputs": []
    },
    {
      "cell_type": "markdown",
      "source": [
        "## Categorical Plots\n",
        "\n",
        "### Categorical Scatter Plot\n",
        "\n",
        "- Stripplot\n",
        "- Swarmplot\n",
        "\n",
        "### Categorical Distribution Plots\n",
        "\n",
        "- Boxplot\n",
        "- Violinplot\n",
        "\n",
        "### Categorical Estimate Plot -> for central tendency\n",
        "\n",
        "- Barplot\n",
        "- Pointplot\n",
        "- Countplot\n",
        "\n",
        "### Figure level function -> `catplot`"
      ],
      "metadata": {
        "id": "qRG2_OtiotZ9"
      }
    },
    {
      "cell_type": "code",
      "source": [],
      "metadata": {
        "id": "Y1VJynMVoqS6"
      },
      "execution_count": null,
      "outputs": []
    }
  ]
}